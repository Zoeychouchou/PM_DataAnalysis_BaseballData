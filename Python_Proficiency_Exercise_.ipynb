{
  "nbformat": 4,
  "nbformat_minor": 0,
  "metadata": {
    "colab": {
      "provenance": [],
      "collapsed_sections": []
    },
    "kernelspec": {
      "name": "python3",
      "display_name": "Python 3"
    },
    "language_info": {
      "name": "python"
    }
  },
  "cells": [
    {
      "cell_type": "markdown",
      "source": [
        "The data set for this exercise is found in the file Baseball Data .  It shows the outcome of the 2016 \n",
        "Fantasy Baseball League. Your tasks are as follows: \n"
      ],
      "metadata": {
        "id": "ga1oQPSNr0C5"
      }
    },
    {
      "cell_type": "markdown",
      "source": [
        "1.  Import the database as a Pandas dataframe. "
      ],
      "metadata": {
        "id": "vvvC3T7gsQhb"
      }
    },
    {
      "cell_type": "code",
      "source": [
        "import pandas as pd\n",
        "df = pd.read_excel('Baseball Data.xlsx')\n",
        "df"
      ],
      "metadata": {
        "id": "BSFIo6vfvGeQ",
        "outputId": "fcca1f3e-5cfc-4674-8a47-926cedf9c692",
        "colab": {
          "base_uri": "https://localhost:8080/",
          "height": 626
        }
      },
      "execution_count": 148,
      "outputs": [
        {
          "output_type": "execute_result",
          "data": {
            "text/plain": [
              "                PLAYER    POS Team  Games Played  At-bat  Runs   Hits  \\\n",
              "0          Abreu, Jose     1B  CHW         159.0   624.0  67.0  184.0   \n",
              "1       Ackley, Dustin     1B  NYY          28.0    61.0   6.0    9.0   \n",
              "2    Adames, Cristhian     SS  COL         121.0   225.0  25.0   49.0   \n",
              "3          Adams, Matt     1B  STL         118.0   297.0  37.0   74.0   \n",
              "4      Adrianza, Ehire     SS   SF          40.0    63.0   3.0   16.0   \n",
              "..                 ...    ...  ...           ...     ...   ...    ...   \n",
              "627       Young, Chris     OF  BOS          76.0   203.0  29.0   56.0   \n",
              "628        Young, Eric     DH   FA           6.0     1.0   2.0    0.0   \n",
              "629    Zimmerman, Ryan     1B  WSH         115.0   427.0  60.0   93.0   \n",
              "630       Zobrist, Ben  2B/OF  CHC         147.0   523.0  94.0  142.0   \n",
              "631       Zunino, Mike      C  SEA          55.0   164.0  16.0   34.0   \n",
              "\n",
              "     Doubles  Triples  Home Runs  Runs Batted In  Walks  Strikeout  \\\n",
              "0       32.0      1.0       25.0           100.0   47.0      125.0   \n",
              "1        0.0      0.0        0.0             4.0    8.0        9.0   \n",
              "2        7.0      3.0        2.0            17.0   24.0       47.0   \n",
              "3       18.0      0.0       16.0            54.0   25.0       81.0   \n",
              "4        2.0      0.0        2.0             7.0    2.0       13.0   \n",
              "..       ...      ...        ...             ...    ...        ...   \n",
              "627     18.0      0.0        9.0            24.0   21.0       50.0   \n",
              "628      0.0      0.0        0.0             0.0    0.0        0.0   \n",
              "629     18.0      1.0       15.0            46.0   29.0      104.0   \n",
              "630     31.0      3.0       18.0            76.0   96.0       82.0   \n",
              "631      7.0      0.0       12.0            31.0   21.0       65.0   \n",
              "\n",
              "     Stolen Bases  Caught Stealing  Batting Average  Slugging Percentage  \\\n",
              "0             0.0              2.0         0.294872             0.469551   \n",
              "1             0.0              0.0         0.147541             0.147541   \n",
              "2             2.0              3.0         0.217778             0.302222   \n",
              "3             0.0              1.0         0.249158             0.471380   \n",
              "4             0.0              1.0         0.253968             0.380952   \n",
              "..            ...              ...              ...                  ...   \n",
              "627           4.0              2.0         0.275862             0.497537   \n",
              "628           1.0              0.0         0.000000             0.000000   \n",
              "629           4.0              1.0         0.217799             0.370023   \n",
              "630           6.0              4.0         0.271511             0.445507   \n",
              "631           0.0              0.0         0.207317             0.469512   \n",
              "\n",
              "     On-base Percentage  On-base Plus Slugging'  \n",
              "0              0.353957                0.823508  \n",
              "1              0.242857                0.390398  \n",
              "2              0.304348                0.606570  \n",
              "3              0.308869                0.780249  \n",
              "4              0.298507                0.679460  \n",
              "..                  ...                     ...  \n",
              "627            0.352423                0.849960  \n",
              "628            0.000000                0.000000  \n",
              "629            0.271949                0.641972  \n",
              "630            0.385965                0.831472  \n",
              "631            0.317708                0.787221  \n",
              "\n",
              "[632 rows x 19 columns]"
            ],
            "text/html": [
              "\n",
              "  <div id=\"df-a60923ee-d666-4105-992c-9bbbc00034a8\">\n",
              "    <div class=\"colab-df-container\">\n",
              "      <div>\n",
              "<style scoped>\n",
              "    .dataframe tbody tr th:only-of-type {\n",
              "        vertical-align: middle;\n",
              "    }\n",
              "\n",
              "    .dataframe tbody tr th {\n",
              "        vertical-align: top;\n",
              "    }\n",
              "\n",
              "    .dataframe thead th {\n",
              "        text-align: right;\n",
              "    }\n",
              "</style>\n",
              "<table border=\"1\" class=\"dataframe\">\n",
              "  <thead>\n",
              "    <tr style=\"text-align: right;\">\n",
              "      <th></th>\n",
              "      <th>PLAYER</th>\n",
              "      <th>POS</th>\n",
              "      <th>Team</th>\n",
              "      <th>Games Played</th>\n",
              "      <th>At-bat</th>\n",
              "      <th>Runs</th>\n",
              "      <th>Hits</th>\n",
              "      <th>Doubles</th>\n",
              "      <th>Triples</th>\n",
              "      <th>Home Runs</th>\n",
              "      <th>Runs Batted In</th>\n",
              "      <th>Walks</th>\n",
              "      <th>Strikeout</th>\n",
              "      <th>Stolen Bases</th>\n",
              "      <th>Caught Stealing</th>\n",
              "      <th>Batting Average</th>\n",
              "      <th>Slugging Percentage</th>\n",
              "      <th>On-base Percentage</th>\n",
              "      <th>On-base Plus Slugging'</th>\n",
              "    </tr>\n",
              "  </thead>\n",
              "  <tbody>\n",
              "    <tr>\n",
              "      <th>0</th>\n",
              "      <td>Abreu, Jose</td>\n",
              "      <td>1B</td>\n",
              "      <td>CHW</td>\n",
              "      <td>159.0</td>\n",
              "      <td>624.0</td>\n",
              "      <td>67.0</td>\n",
              "      <td>184.0</td>\n",
              "      <td>32.0</td>\n",
              "      <td>1.0</td>\n",
              "      <td>25.0</td>\n",
              "      <td>100.0</td>\n",
              "      <td>47.0</td>\n",
              "      <td>125.0</td>\n",
              "      <td>0.0</td>\n",
              "      <td>2.0</td>\n",
              "      <td>0.294872</td>\n",
              "      <td>0.469551</td>\n",
              "      <td>0.353957</td>\n",
              "      <td>0.823508</td>\n",
              "    </tr>\n",
              "    <tr>\n",
              "      <th>1</th>\n",
              "      <td>Ackley, Dustin</td>\n",
              "      <td>1B</td>\n",
              "      <td>NYY</td>\n",
              "      <td>28.0</td>\n",
              "      <td>61.0</td>\n",
              "      <td>6.0</td>\n",
              "      <td>9.0</td>\n",
              "      <td>0.0</td>\n",
              "      <td>0.0</td>\n",
              "      <td>0.0</td>\n",
              "      <td>4.0</td>\n",
              "      <td>8.0</td>\n",
              "      <td>9.0</td>\n",
              "      <td>0.0</td>\n",
              "      <td>0.0</td>\n",
              "      <td>0.147541</td>\n",
              "      <td>0.147541</td>\n",
              "      <td>0.242857</td>\n",
              "      <td>0.390398</td>\n",
              "    </tr>\n",
              "    <tr>\n",
              "      <th>2</th>\n",
              "      <td>Adames, Cristhian</td>\n",
              "      <td>SS</td>\n",
              "      <td>COL</td>\n",
              "      <td>121.0</td>\n",
              "      <td>225.0</td>\n",
              "      <td>25.0</td>\n",
              "      <td>49.0</td>\n",
              "      <td>7.0</td>\n",
              "      <td>3.0</td>\n",
              "      <td>2.0</td>\n",
              "      <td>17.0</td>\n",
              "      <td>24.0</td>\n",
              "      <td>47.0</td>\n",
              "      <td>2.0</td>\n",
              "      <td>3.0</td>\n",
              "      <td>0.217778</td>\n",
              "      <td>0.302222</td>\n",
              "      <td>0.304348</td>\n",
              "      <td>0.606570</td>\n",
              "    </tr>\n",
              "    <tr>\n",
              "      <th>3</th>\n",
              "      <td>Adams, Matt</td>\n",
              "      <td>1B</td>\n",
              "      <td>STL</td>\n",
              "      <td>118.0</td>\n",
              "      <td>297.0</td>\n",
              "      <td>37.0</td>\n",
              "      <td>74.0</td>\n",
              "      <td>18.0</td>\n",
              "      <td>0.0</td>\n",
              "      <td>16.0</td>\n",
              "      <td>54.0</td>\n",
              "      <td>25.0</td>\n",
              "      <td>81.0</td>\n",
              "      <td>0.0</td>\n",
              "      <td>1.0</td>\n",
              "      <td>0.249158</td>\n",
              "      <td>0.471380</td>\n",
              "      <td>0.308869</td>\n",
              "      <td>0.780249</td>\n",
              "    </tr>\n",
              "    <tr>\n",
              "      <th>4</th>\n",
              "      <td>Adrianza, Ehire</td>\n",
              "      <td>SS</td>\n",
              "      <td>SF</td>\n",
              "      <td>40.0</td>\n",
              "      <td>63.0</td>\n",
              "      <td>3.0</td>\n",
              "      <td>16.0</td>\n",
              "      <td>2.0</td>\n",
              "      <td>0.0</td>\n",
              "      <td>2.0</td>\n",
              "      <td>7.0</td>\n",
              "      <td>2.0</td>\n",
              "      <td>13.0</td>\n",
              "      <td>0.0</td>\n",
              "      <td>1.0</td>\n",
              "      <td>0.253968</td>\n",
              "      <td>0.380952</td>\n",
              "      <td>0.298507</td>\n",
              "      <td>0.679460</td>\n",
              "    </tr>\n",
              "    <tr>\n",
              "      <th>...</th>\n",
              "      <td>...</td>\n",
              "      <td>...</td>\n",
              "      <td>...</td>\n",
              "      <td>...</td>\n",
              "      <td>...</td>\n",
              "      <td>...</td>\n",
              "      <td>...</td>\n",
              "      <td>...</td>\n",
              "      <td>...</td>\n",
              "      <td>...</td>\n",
              "      <td>...</td>\n",
              "      <td>...</td>\n",
              "      <td>...</td>\n",
              "      <td>...</td>\n",
              "      <td>...</td>\n",
              "      <td>...</td>\n",
              "      <td>...</td>\n",
              "      <td>...</td>\n",
              "      <td>...</td>\n",
              "    </tr>\n",
              "    <tr>\n",
              "      <th>627</th>\n",
              "      <td>Young, Chris</td>\n",
              "      <td>OF</td>\n",
              "      <td>BOS</td>\n",
              "      <td>76.0</td>\n",
              "      <td>203.0</td>\n",
              "      <td>29.0</td>\n",
              "      <td>56.0</td>\n",
              "      <td>18.0</td>\n",
              "      <td>0.0</td>\n",
              "      <td>9.0</td>\n",
              "      <td>24.0</td>\n",
              "      <td>21.0</td>\n",
              "      <td>50.0</td>\n",
              "      <td>4.0</td>\n",
              "      <td>2.0</td>\n",
              "      <td>0.275862</td>\n",
              "      <td>0.497537</td>\n",
              "      <td>0.352423</td>\n",
              "      <td>0.849960</td>\n",
              "    </tr>\n",
              "    <tr>\n",
              "      <th>628</th>\n",
              "      <td>Young, Eric</td>\n",
              "      <td>DH</td>\n",
              "      <td>FA</td>\n",
              "      <td>6.0</td>\n",
              "      <td>1.0</td>\n",
              "      <td>2.0</td>\n",
              "      <td>0.0</td>\n",
              "      <td>0.0</td>\n",
              "      <td>0.0</td>\n",
              "      <td>0.0</td>\n",
              "      <td>0.0</td>\n",
              "      <td>0.0</td>\n",
              "      <td>0.0</td>\n",
              "      <td>1.0</td>\n",
              "      <td>0.0</td>\n",
              "      <td>0.000000</td>\n",
              "      <td>0.000000</td>\n",
              "      <td>0.000000</td>\n",
              "      <td>0.000000</td>\n",
              "    </tr>\n",
              "    <tr>\n",
              "      <th>629</th>\n",
              "      <td>Zimmerman, Ryan</td>\n",
              "      <td>1B</td>\n",
              "      <td>WSH</td>\n",
              "      <td>115.0</td>\n",
              "      <td>427.0</td>\n",
              "      <td>60.0</td>\n",
              "      <td>93.0</td>\n",
              "      <td>18.0</td>\n",
              "      <td>1.0</td>\n",
              "      <td>15.0</td>\n",
              "      <td>46.0</td>\n",
              "      <td>29.0</td>\n",
              "      <td>104.0</td>\n",
              "      <td>4.0</td>\n",
              "      <td>1.0</td>\n",
              "      <td>0.217799</td>\n",
              "      <td>0.370023</td>\n",
              "      <td>0.271949</td>\n",
              "      <td>0.641972</td>\n",
              "    </tr>\n",
              "    <tr>\n",
              "      <th>630</th>\n",
              "      <td>Zobrist, Ben</td>\n",
              "      <td>2B/OF</td>\n",
              "      <td>CHC</td>\n",
              "      <td>147.0</td>\n",
              "      <td>523.0</td>\n",
              "      <td>94.0</td>\n",
              "      <td>142.0</td>\n",
              "      <td>31.0</td>\n",
              "      <td>3.0</td>\n",
              "      <td>18.0</td>\n",
              "      <td>76.0</td>\n",
              "      <td>96.0</td>\n",
              "      <td>82.0</td>\n",
              "      <td>6.0</td>\n",
              "      <td>4.0</td>\n",
              "      <td>0.271511</td>\n",
              "      <td>0.445507</td>\n",
              "      <td>0.385965</td>\n",
              "      <td>0.831472</td>\n",
              "    </tr>\n",
              "    <tr>\n",
              "      <th>631</th>\n",
              "      <td>Zunino, Mike</td>\n",
              "      <td>C</td>\n",
              "      <td>SEA</td>\n",
              "      <td>55.0</td>\n",
              "      <td>164.0</td>\n",
              "      <td>16.0</td>\n",
              "      <td>34.0</td>\n",
              "      <td>7.0</td>\n",
              "      <td>0.0</td>\n",
              "      <td>12.0</td>\n",
              "      <td>31.0</td>\n",
              "      <td>21.0</td>\n",
              "      <td>65.0</td>\n",
              "      <td>0.0</td>\n",
              "      <td>0.0</td>\n",
              "      <td>0.207317</td>\n",
              "      <td>0.469512</td>\n",
              "      <td>0.317708</td>\n",
              "      <td>0.787221</td>\n",
              "    </tr>\n",
              "  </tbody>\n",
              "</table>\n",
              "<p>632 rows × 19 columns</p>\n",
              "</div>\n",
              "      <button class=\"colab-df-convert\" onclick=\"convertToInteractive('df-a60923ee-d666-4105-992c-9bbbc00034a8')\"\n",
              "              title=\"Convert this dataframe to an interactive table.\"\n",
              "              style=\"display:none;\">\n",
              "        \n",
              "  <svg xmlns=\"http://www.w3.org/2000/svg\" height=\"24px\"viewBox=\"0 0 24 24\"\n",
              "       width=\"24px\">\n",
              "    <path d=\"M0 0h24v24H0V0z\" fill=\"none\"/>\n",
              "    <path d=\"M18.56 5.44l.94 2.06.94-2.06 2.06-.94-2.06-.94-.94-2.06-.94 2.06-2.06.94zm-11 1L8.5 8.5l.94-2.06 2.06-.94-2.06-.94L8.5 2.5l-.94 2.06-2.06.94zm10 10l.94 2.06.94-2.06 2.06-.94-2.06-.94-.94-2.06-.94 2.06-2.06.94z\"/><path d=\"M17.41 7.96l-1.37-1.37c-.4-.4-.92-.59-1.43-.59-.52 0-1.04.2-1.43.59L10.3 9.45l-7.72 7.72c-.78.78-.78 2.05 0 2.83L4 21.41c.39.39.9.59 1.41.59.51 0 1.02-.2 1.41-.59l7.78-7.78 2.81-2.81c.8-.78.8-2.07 0-2.86zM5.41 20L4 18.59l7.72-7.72 1.47 1.35L5.41 20z\"/>\n",
              "  </svg>\n",
              "      </button>\n",
              "      \n",
              "  <style>\n",
              "    .colab-df-container {\n",
              "      display:flex;\n",
              "      flex-wrap:wrap;\n",
              "      gap: 12px;\n",
              "    }\n",
              "\n",
              "    .colab-df-convert {\n",
              "      background-color: #E8F0FE;\n",
              "      border: none;\n",
              "      border-radius: 50%;\n",
              "      cursor: pointer;\n",
              "      display: none;\n",
              "      fill: #1967D2;\n",
              "      height: 32px;\n",
              "      padding: 0 0 0 0;\n",
              "      width: 32px;\n",
              "    }\n",
              "\n",
              "    .colab-df-convert:hover {\n",
              "      background-color: #E2EBFA;\n",
              "      box-shadow: 0px 1px 2px rgba(60, 64, 67, 0.3), 0px 1px 3px 1px rgba(60, 64, 67, 0.15);\n",
              "      fill: #174EA6;\n",
              "    }\n",
              "\n",
              "    [theme=dark] .colab-df-convert {\n",
              "      background-color: #3B4455;\n",
              "      fill: #D2E3FC;\n",
              "    }\n",
              "\n",
              "    [theme=dark] .colab-df-convert:hover {\n",
              "      background-color: #434B5C;\n",
              "      box-shadow: 0px 1px 3px 1px rgba(0, 0, 0, 0.15);\n",
              "      filter: drop-shadow(0px 1px 2px rgba(0, 0, 0, 0.3));\n",
              "      fill: #FFFFFF;\n",
              "    }\n",
              "  </style>\n",
              "\n",
              "      <script>\n",
              "        const buttonEl =\n",
              "          document.querySelector('#df-a60923ee-d666-4105-992c-9bbbc00034a8 button.colab-df-convert');\n",
              "        buttonEl.style.display =\n",
              "          google.colab.kernel.accessAllowed ? 'block' : 'none';\n",
              "\n",
              "        async function convertToInteractive(key) {\n",
              "          const element = document.querySelector('#df-a60923ee-d666-4105-992c-9bbbc00034a8');\n",
              "          const dataTable =\n",
              "            await google.colab.kernel.invokeFunction('convertToInteractive',\n",
              "                                                     [key], {});\n",
              "          if (!dataTable) return;\n",
              "\n",
              "          const docLinkHtml = 'Like what you see? Visit the ' +\n",
              "            '<a target=\"_blank\" href=https://colab.research.google.com/notebooks/data_table.ipynb>data table notebook</a>'\n",
              "            + ' to learn more about interactive tables.';\n",
              "          element.innerHTML = '';\n",
              "          dataTable['output_type'] = 'display_data';\n",
              "          await google.colab.output.renderOutput(dataTable, element);\n",
              "          const docLink = document.createElement('div');\n",
              "          docLink.innerHTML = docLinkHtml;\n",
              "          element.appendChild(docLink);\n",
              "        }\n",
              "      </script>\n",
              "    </div>\n",
              "  </div>\n",
              "  "
            ]
          },
          "metadata": {},
          "execution_count": 148
        }
      ]
    },
    {
      "cell_type": "markdown",
      "source": [
        "a.  Which player had the highest batting average? The lowest? Make sure to print out your results.\n",
        "\n"
      ],
      "metadata": {
        "id": "zs_kQKIJsp2g"
      }
    },
    {
      "cell_type": "code",
      "source": [
        "# Check if the \"batting average\" is in the dataframe\n",
        "check_result = \"Batting Average\" in df.keys()\n",
        "print(check_result)\n",
        "\n",
        "# Player with Highest batting average\n",
        "idmax = df[\"Batting Average\"].idxmax() \n",
        "print(\"Player has highest batting average:\")\n",
        "print(df.loc[idmax, [\"PLAYER\"]])\n",
        "print()\n",
        "idmin = df[\"Batting Average\"].idxmin()\n",
        "print(\"Player has lowest batting average:\")\n",
        "print(df.loc[idmin, [\"PLAYER\"]])"
      ],
      "metadata": {
        "id": "POm9ymmosqG1",
        "colab": {
          "base_uri": "https://localhost:8080/"
        },
        "outputId": "4e6d9948-6da3-4bd3-b14b-7d354e5b8bc0"
      },
      "execution_count": 149,
      "outputs": [
        {
          "output_type": "stream",
          "name": "stdout",
          "text": [
            "True\n",
            "Player has highest batting average:\n",
            "PLAYER    Perez, Yefri\n",
            "Name: 436, dtype: object\n",
            "\n",
            "Player has lowest batting average:\n",
            "PLAYER    Aguilar, Jesus\n",
            "Name: 5, dtype: object\n"
          ]
        }
      ]
    },
    {
      "cell_type": "markdown",
      "source": [
        "b.  Which player had the highest # of home-runs per game? "
      ],
      "metadata": {
        "id": "kewxB-BrsqSj"
      }
    },
    {
      "cell_type": "code",
      "source": [
        "idmax = (df[\"Home Runs\"]/df[\"Games Played\"]).idxmax() #return index of the max value\n",
        "print(\"Player has highest # of home-runs per game:\")\n",
        "print(df.loc[idmax, [\"PLAYER\"]])"
      ],
      "metadata": {
        "id": "oEfnN1qrsqcV",
        "colab": {
          "base_uri": "https://localhost:8080/"
        },
        "outputId": "840e38e2-5716-4570-d3fc-a7e45049a134"
      },
      "execution_count": 150,
      "outputs": [
        {
          "output_type": "stream",
          "name": "stdout",
          "text": [
            "Player has highest # of home-runs per game:\n",
            "PLAYER    Mancini, Trey\n",
            "Name: 336, dtype: object\n"
          ]
        }
      ]
    },
    {
      "cell_type": "markdown",
      "source": [
        "c.  Do players with higher batting averages tend to score more home runs per game? Create \n",
        "a scatter plot and determine if a relationship exists (make sure to include labels!). "
      ],
      "metadata": {
        "id": "8Qvro_U4sqie"
      }
    },
    {
      "cell_type": "code",
      "source": [
        "from matplotlib.axis import XAxis\n",
        "import matplotlib.pyplot as plt\n",
        "\n",
        "x = df[\"Batting Average\"]\n",
        "y = df[\"Home Runs\"]/df[\"Games Played\"]\n",
        "\n",
        "# Save the home runs per game back to the df\n",
        "df['Home Runs Per Game'] = y\n",
        "\n",
        "plt.scatter(x, y)\n",
        "plt.xlabel(\"Batting Average\")\n",
        "plt.ylabel(\"Home Runs Per Game\")\n",
        "plt.show()\n",
        "\n",
        "# Filter out the desired column\n",
        "filter_names = [\"Batting Average\", \"Home Runs Per Game\"] \n",
        "df_target = df[filter_names]\n",
        "\n",
        "# Do corr\n",
        "corr = df_target[\"Batting Average\"].corr(df_target[\"Home Runs Per Game\"])\n",
        "\n",
        "print(f\"Correlation {corr:.5} > 0.3, Moderate correlation\")\n",
        " \n",
        "#corr > 0.2\n",
        "print(\"A relationship does exist.\")"
      ],
      "metadata": {
        "id": "YxKdrdXIsqnW",
        "colab": {
          "base_uri": "https://localhost:8080/",
          "height": 315
        },
        "outputId": "3a8e2029-135d-4318-9238-c4d27998892a"
      },
      "execution_count": 151,
      "outputs": [
        {
          "output_type": "display_data",
          "data": {
            "text/plain": [
              "<Figure size 432x288 with 1 Axes>"
            ],
            "image/png": "[encoded data removed]"
          },
          "metadata": {
            "needs_background": "light"
          }
        },
        {
          "output_type": "stream",
          "name": "stdout",
          "text": [
            "Correlation 0.35615 > 0.3, Moderate correlation\n",
            "A relationship does exist.\n"
          ]
        }
      ]
    },
    {
      "cell_type": "markdown",
      "source": [
        "2.  Create a numpy array of Games Played. "
      ],
      "metadata": {
        "id": "6uWmt9jRsqsP"
      }
    },
    {
      "cell_type": "markdown",
      "source": [
        "a.  What is the mean number of games played? The median? \n"
      ],
      "metadata": {
        "id": "2SlU1r-MsyM9"
      }
    },
    {
      "cell_type": "code",
      "source": [
        "import numpy as np\n",
        "df_gameplay = df[\"Games Played\"]\n",
        "np_gameplay = df_gameplay.to_numpy()\n",
        "print(f\"The mean number of games played: \\t{np_gameplay.mean()}\")\n",
        "print(f\"The median number of games played: \\t{np.median(np_gameplay)}\")"
      ],
      "metadata": {
        "id": "xPS1nUAmsyT6",
        "colab": {
          "base_uri": "https://localhost:8080/"
        },
        "outputId": "ea22489d-9388-4c0b-d29a-9ee33a8ffc77"
      },
      "execution_count": 152,
      "outputs": [
        {
          "output_type": "stream",
          "name": "stdout",
          "text": [
            "The mean number of games played: \t79.43987341772151\n",
            "The median number of games played: \t78.0\n"
          ]
        }
      ]
    },
    {
      "cell_type": "markdown",
      "source": [
        "b.  Plot a histogram of this data, choosing an appropriate bin size, and observe the \n",
        "distribution. "
      ],
      "metadata": {
        "id": "GH4X1oROsyYz"
      }
    },
    {
      "cell_type": "code",
      "source": [
        "plt.hist(np_gameplay,bins=15)\n",
        "plt.show()\n",
        "print(\"There's a U shape in the distribution data.\")"
      ],
      "metadata": {
        "id": "RrIUl78QsyeF",
        "colab": {
          "base_uri": "https://localhost:8080/",
          "height": 285
        },
        "outputId": "fdb7c048-4999-4356-ce42-9cf9f8fbd52e"
      },
      "execution_count": 153,
      "outputs": [
        {
          "output_type": "display_data",
          "data": {
            "text/plain": [
              "<Figure size 432x288 with 1 Axes>"
            ],
            "image/png": "[encoded data removed]"
          },
          "metadata": {
            "needs_background": "light"
          }
        },
        {
          "output_type": "stream",
          "name": "stdout",
          "text": [
            "There's a U shape in the distribution data.\n"
          ]
        }
      ]
    },
    {
      "cell_type": "markdown",
      "source": [
        "3.    Isolate players who play on 1 st  Base, and those who play outfield. "
      ],
      "metadata": {
        "id": "rey7zhIytdYv"
      }
    },
    {
      "cell_type": "markdown",
      "source": [
        "a.  To which position does the highest home-run scoring player belong to? \n"
      ],
      "metadata": {
        "id": "BVa71vKstdif"
      }
    },
    {
      "cell_type": "code",
      "source": [
        "#isolate players who play on 1 st Base\n",
        "sel_pos_1b = \"1B\"\n",
        "filter_1b = df[\"POS\"] == sel_pos_1b\n",
        "iso_1b = df[filter_1b]\n",
        "print(\"Highest home-run scoring player\")\n",
        "print(f\"1 st Base:\\t {iso_1b['Home Runs'].max()}\")\n",
        "#isolate players who play outfield \n",
        "sel_pos_of = \"OF\"\n",
        "filter_of = df[\"POS\"] == sel_pos_of\n",
        "iso_of = df[filter_of]\n",
        "print(f\"Outfield:\\t {iso_of['Home Runs'].max()}\")\n",
        "#Result\n",
        "print(\"The highest home-run scoring player belong to \\\"1st Base\\\" position.\")\n"
      ],
      "metadata": {
        "id": "p5qBE_VStdma",
        "colab": {
          "base_uri": "https://localhost:8080/"
        },
        "outputId": "1b3fb90b-5873-4909-bd04-58f3b7e85891"
      },
      "execution_count": 154,
      "outputs": [
        {
          "output_type": "stream",
          "name": "stdout",
          "text": [
            "Highest home-run scoring player\n",
            "1 st Base:\t 41.0\n",
            "Outfield:\t 35.0\n",
            "The highest home-run scoring player belong to \"1st Base\" position.\n"
          ]
        }
      ]
    },
    {
      "cell_type": "markdown",
      "source": [
        "b.  Compare the means and medians of batting averages. Can you conclude that one group \n",
        "hits more successfully than the other? "
      ],
      "metadata": {
        "id": "3dRXVmVytdqG"
      }
    },
    {
      "cell_type": "code",
      "source": [
        "#1 st Base Mean data\n",
        "ib_mean = iso_1b['Batting Average'].mean()\n",
        "print(f\"1st Base Mean: \\t\\t {ib_mean:.5}\")\n",
        "ib_median = iso_1b['Batting Average'].median()\n",
        "print(f\"1st Base Median:\\t {ib_median:.5}\")\n",
        "#Outfield data\n",
        "of_mean = iso_of['Batting Average'].mean()\n",
        "print(f\"Outfield Mean:\\t \\t {of_mean:.5}\")\n",
        "of_median = iso_of['Batting Average'].median()\n",
        "print(f\"Outfield Median:\\t {of_median:.5}\")\n",
        "#Conclude\n",
        "print(\"Conclusion: \\nBoth mean and median of outfield players batting averages are higher than 1st Base players.\")\n",
        "print(\"Outfield players hits more successfully than 1st Base players \")\n"
      ],
      "metadata": {
        "id": "yBBjO697tdtp",
        "colab": {
          "base_uri": "https://localhost:8080/"
        },
        "outputId": "f86d3f33-6ce4-4ef9-dac8-8b642777d3d1"
      },
      "execution_count": 155,
      "outputs": [
        {
          "output_type": "stream",
          "name": "stdout",
          "text": [
            "1st Base Mean: \t\t 0.23503\n",
            "1st Base Median:\t 0.23633\n",
            "Outfield Mean:\t \t 0.23882\n",
            "Outfield Median:\t 0.24308\n",
            "Conclusion: \n",
            "Both mean and median of outfield players batting averages are higher than 1st Base players.\n",
            "Outfield players hits more successfully than 1st Base players \n"
          ]
        }
      ]
    }
  ]
}